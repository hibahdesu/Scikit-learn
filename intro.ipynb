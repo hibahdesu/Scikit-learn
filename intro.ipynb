{
 "cells": [
  {
   "cell_type": "markdown",
   "id": "cc81e9a7",
   "metadata": {},
   "source": [
    "load iris"
   ]
  },
  {
   "cell_type": "code",
   "execution_count": 1,
   "id": "8e533d8c",
   "metadata": {},
   "outputs": [],
   "source": [
    "from sklearn.datasets import load_iris"
   ]
  },
  {
   "cell_type": "code",
   "execution_count": 2,
   "id": "1930d1df",
   "metadata": {},
   "outputs": [],
   "source": [
    "IrisData = load_iris()"
   ]
  },
  {
   "cell_type": "code",
   "execution_count": 3,
   "id": "f27dd4f5",
   "metadata": {},
   "outputs": [],
   "source": [
    "X = IrisData.data"
   ]
  },
  {
   "cell_type": "code",
   "execution_count": 4,
   "id": "653dcf62",
   "metadata": {},
   "outputs": [
    {
     "name": "stdout",
     "output_type": "stream",
     "text": [
      "X Data is  [[5.1 3.5 1.4 0.2]\n",
      " [4.9 3.  1.4 0.2]\n",
      " [4.7 3.2 1.3 0.2]\n",
      " [4.6 3.1 1.5 0.2]\n",
      " [5.  3.6 1.4 0.2]\n",
      " [5.4 3.9 1.7 0.4]\n",
      " [4.6 3.4 1.4 0.3]\n",
      " [5.  3.4 1.5 0.2]\n",
      " [4.4 2.9 1.4 0.2]\n",
      " [4.9 3.1 1.5 0.1]]\n"
     ]
    }
   ],
   "source": [
    "print('X Data is ', X[:10])"
   ]
  },
  {
   "cell_type": "code",
   "execution_count": 5,
   "id": "72200bb4",
   "metadata": {},
   "outputs": [
    {
     "name": "stdout",
     "output_type": "stream",
     "text": [
      "X shape is  (150, 4)\n"
     ]
    }
   ],
   "source": [
    "print('X shape is ', X.shape)"
   ]
  },
  {
   "cell_type": "code",
   "execution_count": 6,
   "id": "abf1ed1b",
   "metadata": {},
   "outputs": [
    {
     "name": "stdout",
     "output_type": "stream",
     "text": [
      "X Features are  ['sepal length (cm)', 'sepal width (cm)', 'petal length (cm)', 'petal width (cm)']\n"
     ]
    }
   ],
   "source": [
    "print('X Features are ', IrisData.feature_names)"
   ]
  },
  {
   "cell_type": "code",
   "execution_count": 7,
   "id": "c9d0741b",
   "metadata": {},
   "outputs": [],
   "source": [
    "y = IrisData.target"
   ]
  },
  {
   "cell_type": "code",
   "execution_count": 8,
   "id": "3a9fb8ba",
   "metadata": {},
   "outputs": [
    {
     "name": "stdout",
     "output_type": "stream",
     "text": [
      "y Data is  [0 0 0 0 0 0 0 0 0 0 0 0 0 0 0 0 0 0 0 0 0 0 0 0 0 0 0 0 0 0 0 0 0 0 0 0 0\n",
      " 0 0 0 0 0 0 0 0 0 0 0 0 0 1 1 1 1 1 1 1 1 1 1 1 1 1 1 1 1 1 1 1 1 1 1 1 1\n",
      " 1 1 1 1 1 1 1 1 1 1 1 1 1 1 1 1 1 1 1 1 1 1 1 1 1 1 2 2 2 2 2 2 2 2 2 2 2\n",
      " 2 2 2 2 2 2 2 2 2 2 2 2 2 2 2 2 2 2 2 2 2 2 2 2 2 2 2 2 2 2 2 2 2 2 2 2 2\n",
      " 2 2]\n"
     ]
    }
   ],
   "source": [
    "print('y Data is ', y[: 150])"
   ]
  },
  {
   "cell_type": "code",
   "execution_count": 9,
   "id": "e363412e",
   "metadata": {},
   "outputs": [
    {
     "name": "stdout",
     "output_type": "stream",
     "text": [
      "y shape is  (150,)\n"
     ]
    }
   ],
   "source": [
    "print('y shape is ', y.shape)"
   ]
  },
  {
   "cell_type": "code",
   "execution_count": 10,
   "id": "7de11635",
   "metadata": {},
   "outputs": [
    {
     "name": "stdout",
     "output_type": "stream",
     "text": [
      "y columns are ['setosa' 'versicolor' 'virginica']\n"
     ]
    }
   ],
   "source": [
    "print('y columns are', IrisData.target_names)"
   ]
  },
  {
   "cell_type": "markdown",
   "id": "12e4fb9e",
   "metadata": {},
   "source": [
    "load digits data"
   ]
  },
  {
   "cell_type": "code",
   "execution_count": 11,
   "id": "5eb21e79",
   "metadata": {},
   "outputs": [],
   "source": [
    "from sklearn.datasets import load_digits"
   ]
  },
  {
   "cell_type": "code",
   "execution_count": 12,
   "id": "5866ce09",
   "metadata": {},
   "outputs": [],
   "source": [
    "DigitsData = load_digits()"
   ]
  },
  {
   "cell_type": "code",
   "execution_count": 13,
   "id": "3f72e5e0",
   "metadata": {},
   "outputs": [],
   "source": [
    "X = DigitsData.data"
   ]
  },
  {
   "cell_type": "code",
   "execution_count": 14,
   "id": "65850ced",
   "metadata": {},
   "outputs": [
    {
     "name": "stdout",
     "output_type": "stream",
     "text": [
      "X Data is  [[ 0.  0.  5. 13.  9.  1.  0.  0.  0.  0. 13. 15. 10. 15.  5.  0.  0.  3.\n",
      "  15.  2.  0. 11.  8.  0.  0.  4. 12.  0.  0.  8.  8.  0.  0.  5.  8.  0.\n",
      "   0.  9.  8.  0.  0.  4. 11.  0.  1. 12.  7.  0.  0.  2. 14.  5. 10. 12.\n",
      "   0.  0.  0.  0.  6. 13. 10.  0.  0.  0.]\n",
      " [ 0.  0.  0. 12. 13.  5.  0.  0.  0.  0.  0. 11. 16.  9.  0.  0.  0.  0.\n",
      "   3. 15. 16.  6.  0.  0.  0.  7. 15. 16. 16.  2.  0.  0.  0.  0.  1. 16.\n",
      "  16.  3.  0.  0.  0.  0.  1. 16. 16.  6.  0.  0.  0.  0.  1. 16. 16.  6.\n",
      "   0.  0.  0.  0.  0. 11. 16. 10.  0.  0.]\n",
      " [ 0.  0.  0.  4. 15. 12.  0.  0.  0.  0.  3. 16. 15. 14.  0.  0.  0.  0.\n",
      "   8. 13.  8. 16.  0.  0.  0.  0.  1.  6. 15. 11.  0.  0.  0.  1.  8. 13.\n",
      "  15.  1.  0.  0.  0.  9. 16. 16.  5.  0.  0.  0.  0.  3. 13. 16. 16. 11.\n",
      "   5.  0.  0.  0.  0.  3. 11. 16.  9.  0.]\n",
      " [ 0.  0.  7. 15. 13.  1.  0.  0.  0.  8. 13.  6. 15.  4.  0.  0.  0.  2.\n",
      "   1. 13. 13.  0.  0.  0.  0.  0.  2. 15. 11.  1.  0.  0.  0.  0.  0.  1.\n",
      "  12. 12.  1.  0.  0.  0.  0.  0.  1. 10.  8.  0.  0.  0.  8.  4.  5. 14.\n",
      "   9.  0.  0.  0.  7. 13. 13.  9.  0.  0.]\n",
      " [ 0.  0.  0.  1. 11.  0.  0.  0.  0.  0.  0.  7.  8.  0.  0.  0.  0.  0.\n",
      "   1. 13.  6.  2.  2.  0.  0.  0.  7. 15.  0.  9.  8.  0.  0.  5. 16. 10.\n",
      "   0. 16.  6.  0.  0.  4. 15. 16. 13. 16.  1.  0.  0.  0.  0.  3. 15. 10.\n",
      "   0.  0.  0.  0.  0.  2. 16.  4.  0.  0.]\n",
      " [ 0.  0. 12. 10.  0.  0.  0.  0.  0.  0. 14. 16. 16. 14.  0.  0.  0.  0.\n",
      "  13. 16. 15. 10.  1.  0.  0.  0. 11. 16. 16.  7.  0.  0.  0.  0.  0.  4.\n",
      "   7. 16.  7.  0.  0.  0.  0.  0.  4. 16.  9.  0.  0.  0.  5.  4. 12. 16.\n",
      "   4.  0.  0.  0.  9. 16. 16. 10.  0.  0.]\n",
      " [ 0.  0.  0. 12. 13.  0.  0.  0.  0.  0.  5. 16.  8.  0.  0.  0.  0.  0.\n",
      "  13. 16.  3.  0.  0.  0.  0.  0. 14. 13.  0.  0.  0.  0.  0.  0. 15. 12.\n",
      "   7.  2.  0.  0.  0.  0. 13. 16. 13. 16.  3.  0.  0.  0.  7. 16. 11. 15.\n",
      "   8.  0.  0.  0.  1.  9. 15. 11.  3.  0.]\n",
      " [ 0.  0.  7.  8. 13. 16. 15.  1.  0.  0.  7.  7.  4. 11. 12.  0.  0.  0.\n",
      "   0.  0.  8. 13.  1.  0.  0.  4.  8.  8. 15. 15.  6.  0.  0.  2. 11. 15.\n",
      "  15.  4.  0.  0.  0.  0.  0. 16.  5.  0.  0.  0.  0.  0.  9. 15.  1.  0.\n",
      "   0.  0.  0.  0. 13.  5.  0.  0.  0.  0.]\n",
      " [ 0.  0.  9. 14.  8.  1.  0.  0.  0.  0. 12. 14. 14. 12.  0.  0.  0.  0.\n",
      "   9. 10.  0. 15.  4.  0.  0.  0.  3. 16. 12. 14.  2.  0.  0.  0.  4. 16.\n",
      "  16.  2.  0.  0.  0.  3. 16.  8. 10. 13.  2.  0.  0.  1. 15.  1.  3. 16.\n",
      "   8.  0.  0.  0. 11. 16. 15. 11.  1.  0.]\n",
      " [ 0.  0. 11. 12.  0.  0.  0.  0.  0.  2. 16. 16. 16. 13.  0.  0.  0.  3.\n",
      "  16. 12. 10. 14.  0.  0.  0.  1. 16.  1. 12. 15.  0.  0.  0.  0. 13. 16.\n",
      "   9. 15.  2.  0.  0.  0.  0.  3.  0.  9. 11.  0.  0.  0.  0.  0.  9. 15.\n",
      "   4.  0.  0.  0.  9. 12. 13.  3.  0.  0.]]\n"
     ]
    }
   ],
   "source": [
    "print('X Data is ', X[:10])"
   ]
  },
  {
   "cell_type": "code",
   "execution_count": 15,
   "id": "b782b8eb",
   "metadata": {},
   "outputs": [
    {
     "name": "stdout",
     "output_type": "stream",
     "text": [
      "X shape is  (1797, 64)\n"
     ]
    }
   ],
   "source": [
    "print('X shape is ', X.shape)"
   ]
  },
  {
   "cell_type": "code",
   "execution_count": 16,
   "id": "6ddac0ed",
   "metadata": {},
   "outputs": [],
   "source": [
    "y = DigitsData.target"
   ]
  },
  {
   "cell_type": "code",
   "execution_count": 17,
   "id": "33bb8891",
   "metadata": {},
   "outputs": [
    {
     "name": "stdout",
     "output_type": "stream",
     "text": [
      "y Data is  [0 1 2 3 4 5 6 7 8 9]\n"
     ]
    }
   ],
   "source": [
    "print('y Data is ', y[:10])"
   ]
  },
  {
   "cell_type": "code",
   "execution_count": 18,
   "id": "8bff89cf",
   "metadata": {},
   "outputs": [
    {
     "name": "stdout",
     "output_type": "stream",
     "text": [
      "y shape is  (1797,)\n"
     ]
    }
   ],
   "source": [
    "print('y shape is ', y.shape)"
   ]
  },
  {
   "cell_type": "code",
   "execution_count": 19,
   "id": "4fcd3d99",
   "metadata": {},
   "outputs": [],
   "source": [
    "import matplotlib.pyplot as plt"
   ]
  },
  {
   "cell_type": "code",
   "execution_count": 20,
   "id": "14fdc695",
   "metadata": {},
   "outputs": [
    {
     "data": {
      "text/plain": [
       "<Figure size 640x480 with 0 Axes>"
      ]
     },
     "metadata": {},
     "output_type": "display_data"
    }
   ],
   "source": [
    "plt.gray()"
   ]
  },
  {
   "cell_type": "code",
   "execution_count": 22,
   "id": "8cceb34b",
   "metadata": {},
   "outputs": [
    {
     "name": "stdout",
     "output_type": "stream",
     "text": [
      "Image of Number:  0\n",
      "------------------\n"
     ]
    },
    {
     "data": {
      "image/png": "[encoded data removed]",
      "text/plain": [
       "<Figure size 480x480 with 1 Axes>"
      ]
     },
     "metadata": {},
     "output_type": "display_data"
    },
    {
     "name": "stdout",
     "output_type": "stream",
     "text": [
      "Image of Number:  1\n",
      "------------------\n"
     ]
    },
    {
     "data": {
      "image/png": "[encoded data removed]",
      "text/plain": [
       "<Figure size 480x480 with 1 Axes>"
      ]
     },
     "metadata": {},
     "output_type": "display_data"
    },
    {
     "name": "stdout",
     "output_type": "stream",
     "text": [
      "Image of Number:  2\n",
      "------------------\n"
     ]
    },
    {
     "data": {
      "image/png": "[encoded data removed]",
      "text/plain": [
       "<Figure size 480x480 with 1 Axes>"
      ]
     },
     "metadata": {},
     "output_type": "display_data"
    },
    {
     "name": "stdout",
     "output_type": "stream",
     "text": [
      "Image of Number:  3\n",
      "------------------\n"
     ]
    },
    {
     "data": {
      "image/png": "[encoded data removed]",
      "text/plain": [
       "<Figure size 480x480 with 1 Axes>"
      ]
     },
     "metadata": {},
     "output_type": "display_data"
    },
    {
     "name": "stdout",
     "output_type": "stream",
     "text": [
      "Image of Number:  4\n",
      "------------------\n"
     ]
    },
    {
     "data": {
      "image/png": "[encoded data removed]",
      "text/plain": [
       "<Figure size 480x480 with 1 Axes>"
      ]
     },
     "metadata": {},
     "output_type": "display_data"
    }
   ],
   "source": [
    "for g in range(5):\n",
    "    print('Image of Number: ', g)\n",
    "    plt.matshow(DigitsData.images[g])\n",
    "    print('------------------')\n",
    "    plt.show()"
   ]
  },
  {
   "cell_type": "code",
   "execution_count": 24,
   "id": "346f548d",
   "metadata": {},
   "outputs": [],
   "source": [
    "from sklearn.datasets import load_wine"
   ]
  },
  {
   "cell_type": "code",
   "execution_count": 26,
   "id": "56de88ee",
   "metadata": {},
   "outputs": [],
   "source": [
    "WineData = load_wine()"
   ]
  },
  {
   "cell_type": "code",
   "execution_count": 28,
   "id": "88adeba3",
   "metadata": {},
   "outputs": [],
   "source": [
    "X = WineData.data"
   ]
  },
  {
   "cell_type": "code",
   "execution_count": 31,
   "id": "5c588c54",
   "metadata": {},
   "outputs": [
    {
     "name": "stdout",
     "output_type": "stream",
     "text": [
      "X Data is  [[1.423e+01 1.710e+00 2.430e+00 1.560e+01 1.270e+02 2.800e+00 3.060e+00\n",
      "  2.800e-01 2.290e+00 5.640e+00 1.040e+00 3.920e+00 1.065e+03]\n",
      " [1.320e+01 1.780e+00 2.140e+00 1.120e+01 1.000e+02 2.650e+00 2.760e+00\n",
      "  2.600e-01 1.280e+00 4.380e+00 1.050e+00 3.400e+00 1.050e+03]\n",
      " [1.316e+01 2.360e+00 2.670e+00 1.860e+01 1.010e+02 2.800e+00 3.240e+00\n",
      "  3.000e-01 2.810e+00 5.680e+00 1.030e+00 3.170e+00 1.185e+03]\n",
      " [1.437e+01 1.950e+00 2.500e+00 1.680e+01 1.130e+02 3.850e+00 3.490e+00\n",
      "  2.400e-01 2.180e+00 7.800e+00 8.600e-01 3.450e+00 1.480e+03]\n",
      " [1.324e+01 2.590e+00 2.870e+00 2.100e+01 1.180e+02 2.800e+00 2.690e+00\n",
      "  3.900e-01 1.820e+00 4.320e+00 1.040e+00 2.930e+00 7.350e+02]\n",
      " [1.420e+01 1.760e+00 2.450e+00 1.520e+01 1.120e+02 3.270e+00 3.390e+00\n",
      "  3.400e-01 1.970e+00 6.750e+00 1.050e+00 2.850e+00 1.450e+03]\n",
      " [1.439e+01 1.870e+00 2.450e+00 1.460e+01 9.600e+01 2.500e+00 2.520e+00\n",
      "  3.000e-01 1.980e+00 5.250e+00 1.020e+00 3.580e+00 1.290e+03]\n",
      " [1.406e+01 2.150e+00 2.610e+00 1.760e+01 1.210e+02 2.600e+00 2.510e+00\n",
      "  3.100e-01 1.250e+00 5.050e+00 1.060e+00 3.580e+00 1.295e+03]\n",
      " [1.483e+01 1.640e+00 2.170e+00 1.400e+01 9.700e+01 2.800e+00 2.980e+00\n",
      "  2.900e-01 1.980e+00 5.200e+00 1.080e+00 2.850e+00 1.045e+03]\n",
      " [1.386e+01 1.350e+00 2.270e+00 1.600e+01 9.800e+01 2.980e+00 3.150e+00\n",
      "  2.200e-01 1.850e+00 7.220e+00 1.010e+00 3.550e+00 1.045e+03]]\n"
     ]
    }
   ],
   "source": [
    "print('X Data is ', X[:10])"
   ]
  },
  {
   "cell_type": "code",
   "execution_count": 32,
   "id": "42c0a2c5",
   "metadata": {},
   "outputs": [
    {
     "name": "stdout",
     "output_type": "stream",
     "text": [
      "X shape is  (178, 13)\n"
     ]
    }
   ],
   "source": [
    "print('X shape is ', X.shape)"
   ]
  },
  {
   "cell_type": "code",
   "execution_count": 33,
   "id": "2620732d",
   "metadata": {},
   "outputs": [
    {
     "name": "stdout",
     "output_type": "stream",
     "text": [
      "X Features are  ['alcohol', 'malic_acid', 'ash', 'alcalinity_of_ash', 'magnesium', 'total_phenols', 'flavanoids', 'nonflavanoid_phenols', 'proanthocyanins', 'color_intensity', 'hue', 'od280/od315_of_diluted_wines', 'proline']\n"
     ]
    }
   ],
   "source": [
    "print('X Features are ', WineData.feature_names)"
   ]
  },
  {
   "cell_type": "code",
   "execution_count": 34,
   "id": "a10f9b72",
   "metadata": {},
   "outputs": [],
   "source": [
    "y = WineData.target"
   ]
  },
  {
   "cell_type": "code",
   "execution_count": 35,
   "id": "e3e877b6",
   "metadata": {},
   "outputs": [
    {
     "name": "stdout",
     "output_type": "stream",
     "text": [
      "y data is  [0 0 0 0 0 0 0 0 0 0 0 0 0 0 0 0 0 0 0 0 0 0 0 0 0 0 0 0 0 0 0 0 0 0 0 0 0\n",
      " 0 0 0 0 0 0 0 0 0 0 0 0 0]\n"
     ]
    }
   ],
   "source": [
    "print('y data is ', y[:50])"
   ]
  },
  {
   "cell_type": "code",
   "execution_count": 36,
   "id": "0dba0575",
   "metadata": {},
   "outputs": [
    {
     "name": "stdout",
     "output_type": "stream",
     "text": [
      "y shape is  (178,)\n"
     ]
    }
   ],
   "source": [
    "print('y shape is ', y.shape)"
   ]
  },
  {
   "cell_type": "code",
   "execution_count": 37,
   "id": "df672679",
   "metadata": {},
   "outputs": [
    {
     "name": "stdout",
     "output_type": "stream",
     "text": [
      "y columns are  ['class_0' 'class_1' 'class_2']\n"
     ]
    }
   ],
   "source": [
    "print('y columns are ', WineData.target_names)"
   ]
  },
  {
   "cell_type": "code",
   "execution_count": 38,
   "id": "6040a9d8",
   "metadata": {},
   "outputs": [],
   "source": [
    "from sklearn.datasets import load_breast_cancer"
   ]
  },
  {
   "cell_type": "code",
   "execution_count": 39,
   "id": "2ee40bff",
   "metadata": {},
   "outputs": [],
   "source": [
    "BreastData = load_breast_cancer()"
   ]
  },
  {
   "cell_type": "code",
   "execution_count": 40,
   "id": "cf7d3fd9",
   "metadata": {},
   "outputs": [],
   "source": [
    "X = BreastData.data"
   ]
  },
  {
   "cell_type": "code",
   "execution_count": 41,
   "id": "c805ef5e",
   "metadata": {},
   "outputs": [
    {
     "name": "stdout",
     "output_type": "stream",
     "text": [
      "X data is  [[1.799e+01 1.038e+01 1.228e+02 ... 2.654e-01 4.601e-01 1.189e-01]\n",
      " [2.057e+01 1.777e+01 1.329e+02 ... 1.860e-01 2.750e-01 8.902e-02]\n",
      " [1.969e+01 2.125e+01 1.300e+02 ... 2.430e-01 3.613e-01 8.758e-02]\n",
      " ...\n",
      " [1.303e+01 1.842e+01 8.261e+01 ... 5.013e-02 1.987e-01 6.169e-02]\n",
      " [1.499e+01 2.520e+01 9.554e+01 ... 2.899e-02 1.565e-01 5.504e-02]\n",
      " [1.348e+01 2.082e+01 8.840e+01 ... 2.258e-01 2.807e-01 1.071e-01]]\n"
     ]
    }
   ],
   "source": [
    "print('X data is ', X[:40])"
   ]
  },
  {
   "cell_type": "code",
   "execution_count": 42,
   "id": "0180f6e3",
   "metadata": {},
   "outputs": [
    {
     "name": "stdout",
     "output_type": "stream",
     "text": [
      "X shape is  (569, 30)\n"
     ]
    }
   ],
   "source": [
    "print('X shape is ', X.shape)"
   ]
  },
  {
   "cell_type": "code",
   "execution_count": 43,
   "id": "d4a4aacc",
   "metadata": {},
   "outputs": [
    {
     "name": "stdout",
     "output_type": "stream",
     "text": [
      "X features are  ['mean radius' 'mean texture' 'mean perimeter' 'mean area'\n",
      " 'mean smoothness' 'mean compactness' 'mean concavity'\n",
      " 'mean concave points' 'mean symmetry' 'mean fractal dimension'\n",
      " 'radius error' 'texture error' 'perimeter error' 'area error'\n",
      " 'smoothness error' 'compactness error' 'concavity error'\n",
      " 'concave points error' 'symmetry error' 'fractal dimension error'\n",
      " 'worst radius' 'worst texture' 'worst perimeter' 'worst area'\n",
      " 'worst smoothness' 'worst compactness' 'worst concavity'\n",
      " 'worst concave points' 'worst symmetry' 'worst fractal dimension']\n"
     ]
    }
   ],
   "source": [
    "print('X features are ', BreastData.feature_names)"
   ]
  },
  {
   "cell_type": "code",
   "execution_count": 44,
   "id": "e1fff243",
   "metadata": {},
   "outputs": [],
   "source": [
    "y = BreastData.target"
   ]
  },
  {
   "cell_type": "code",
   "execution_count": 45,
   "id": "8e6e213f",
   "metadata": {},
   "outputs": [
    {
     "name": "stdout",
     "output_type": "stream",
     "text": [
      "y data is  [0 0 0 0 0 0 0 0 0 0 0 0 0 0 0 0 0 0 0 1 1 1 0 0 0 0 0 0 0 0]\n"
     ]
    }
   ],
   "source": [
    "print('y data is ', y[: 30])"
   ]
  },
  {
   "cell_type": "code",
   "execution_count": 46,
   "id": "abf6db88",
   "metadata": {},
   "outputs": [
    {
     "name": "stdout",
     "output_type": "stream",
     "text": [
      "y shape is  (569,)\n"
     ]
    }
   ],
   "source": [
    "print('y shape is ', y.shape)"
   ]
  },
  {
   "cell_type": "code",
   "execution_count": 47,
   "id": "db7e1b36",
   "metadata": {},
   "outputs": [
    {
     "name": "stdout",
     "output_type": "stream",
     "text": [
      "y columns are  ['malignant' 'benign']\n"
     ]
    }
   ],
   "source": [
    "print('y columns are ', BreastData.target_names)"
   ]
  },
  {
   "cell_type": "code",
   "execution_count": 48,
   "id": "e860030c",
   "metadata": {},
   "outputs": [],
   "source": [
    "from sklearn.datasets import load_diabetes"
   ]
  },
  {
   "cell_type": "code",
   "execution_count": 49,
   "id": "21e8a91b",
   "metadata": {},
   "outputs": [],
   "source": [
    "DiabetesData = load_diabetes()"
   ]
  },
  {
   "cell_type": "code",
   "execution_count": 50,
   "id": "954e1c9e",
   "metadata": {},
   "outputs": [],
   "source": [
    "X = DiabetesData.data"
   ]
  },
  {
   "cell_type": "code",
   "execution_count": 52,
   "id": "1bdfd257",
   "metadata": {},
   "outputs": [
    {
     "name": "stdout",
     "output_type": "stream",
     "text": [
      "X data is  [[ 0.03807591  0.05068012  0.06169621  0.02187239 -0.0442235  -0.03482076\n",
      "  -0.04340085 -0.00259226  0.01990749 -0.01764613]\n",
      " [-0.00188202 -0.04464164 -0.05147406 -0.02632753 -0.00844872 -0.01916334\n",
      "   0.07441156 -0.03949338 -0.06833155 -0.09220405]\n",
      " [ 0.08529891  0.05068012  0.04445121 -0.00567042 -0.04559945 -0.03419447\n",
      "  -0.03235593 -0.00259226  0.00286131 -0.02593034]\n",
      " [-0.08906294 -0.04464164 -0.01159501 -0.03665608  0.01219057  0.02499059\n",
      "  -0.03603757  0.03430886  0.02268774 -0.00936191]\n",
      " [ 0.00538306 -0.04464164 -0.03638469  0.02187239  0.00393485  0.01559614\n",
      "   0.00814208 -0.00259226 -0.03198764 -0.04664087]\n",
      " [-0.09269548 -0.04464164 -0.04069594 -0.01944183 -0.06899065 -0.07928784\n",
      "   0.04127682 -0.0763945  -0.04117617 -0.09634616]\n",
      " [-0.04547248  0.05068012 -0.04716281 -0.01599898 -0.04009564 -0.02480001\n",
      "   0.00077881 -0.03949338 -0.06291688 -0.03835666]\n",
      " [ 0.06350368  0.05068012 -0.00189471  0.06662945  0.09061988  0.10891438\n",
      "   0.02286863  0.01770335 -0.03581619  0.00306441]\n",
      " [ 0.04170844  0.05068012  0.06169621 -0.04009893 -0.01395254  0.00620169\n",
      "  -0.02867429 -0.00259226 -0.01495969  0.01134862]\n",
      " [-0.07090025 -0.04464164  0.03906215 -0.03321323 -0.01257658 -0.03450761\n",
      "  -0.02499266 -0.00259226  0.06773705 -0.01350402]]\n"
     ]
    }
   ],
   "source": [
    "print('X data is ', X[:10])"
   ]
  },
  {
   "cell_type": "code",
   "execution_count": 53,
   "id": "9c1343b0",
   "metadata": {},
   "outputs": [
    {
     "name": "stdout",
     "output_type": "stream",
     "text": [
      "X shape is  (442, 10)\n"
     ]
    }
   ],
   "source": [
    "print('X shape is ', X.shape)"
   ]
  },
  {
   "cell_type": "code",
   "execution_count": 54,
   "id": "d8b0bd09",
   "metadata": {},
   "outputs": [
    {
     "name": "stdout",
     "output_type": "stream",
     "text": [
      "X features are  ['age', 'sex', 'bmi', 'bp', 's1', 's2', 's3', 's4', 's5', 's6']\n"
     ]
    }
   ],
   "source": [
    "print('X features are ', DiabetesData.feature_names)"
   ]
  },
  {
   "cell_type": "code",
   "execution_count": 55,
   "id": "694d424a",
   "metadata": {},
   "outputs": [],
   "source": [
    "y = DiabetesData.target"
   ]
  },
  {
   "cell_type": "code",
   "execution_count": 56,
   "id": "75564ce7",
   "metadata": {},
   "outputs": [
    {
     "name": "stdout",
     "output_type": "stream",
     "text": [
      "y data is  [151.  75. 141. 206. 135.  97. 138.  63. 110. 310.]\n"
     ]
    }
   ],
   "source": [
    "print('y data is ', y[:10])"
   ]
  },
  {
   "cell_type": "code",
   "execution_count": 57,
   "id": "8b9d09ec",
   "metadata": {},
   "outputs": [
    {
     "name": "stdout",
     "output_type": "stream",
     "text": [
      "y shape is  (442,)\n"
     ]
    }
   ],
   "source": [
    "print('y shape is ', y.shape)"
   ]
  },
  {
   "cell_type": "code",
   "execution_count": 59,
   "id": "7ee99d8f",
   "metadata": {},
   "outputs": [
    {
     "ename": "AttributeError",
     "evalue": "target_names",
     "output_type": "error",
     "traceback": [
      "\u001b[1;31m---------------------------------------------------------------------------\u001b[0m",
      "\u001b[1;31mKeyError\u001b[0m                                  Traceback (most recent call last)",
      "File \u001b[1;32m~\\anaconda3\\Lib\\site-packages\\sklearn\\utils\\_bunch.py:54\u001b[0m, in \u001b[0;36mBunch.__getattr__\u001b[1;34m(self, key)\u001b[0m\n\u001b[0;32m     53\u001b[0m \u001b[38;5;28;01mtry\u001b[39;00m:\n\u001b[1;32m---> 54\u001b[0m     \u001b[38;5;28;01mreturn\u001b[39;00m \u001b[38;5;28mself\u001b[39m[key]\n\u001b[0;32m     55\u001b[0m \u001b[38;5;28;01mexcept\u001b[39;00m \u001b[38;5;167;01mKeyError\u001b[39;00m:\n",
      "File \u001b[1;32m~\\anaconda3\\Lib\\site-packages\\sklearn\\utils\\_bunch.py:39\u001b[0m, in \u001b[0;36mBunch.__getitem__\u001b[1;34m(self, key)\u001b[0m\n\u001b[0;32m     35\u001b[0m     warnings\u001b[38;5;241m.\u001b[39mwarn(\n\u001b[0;32m     36\u001b[0m         \u001b[38;5;28mself\u001b[39m\u001b[38;5;241m.\u001b[39m_deprecated_key_to_warnings[key],\n\u001b[0;32m     37\u001b[0m         \u001b[38;5;167;01mFutureWarning\u001b[39;00m,\n\u001b[0;32m     38\u001b[0m     )\n\u001b[1;32m---> 39\u001b[0m \u001b[38;5;28;01mreturn\u001b[39;00m \u001b[38;5;28msuper\u001b[39m()\u001b[38;5;241m.\u001b[39m\u001b[38;5;21m__getitem__\u001b[39m(key)\n",
      "\u001b[1;31mKeyError\u001b[0m: 'target_names'",
      "\nDuring handling of the above exception, another exception occurred:\n",
      "\u001b[1;31mAttributeError\u001b[0m                            Traceback (most recent call last)",
      "Cell \u001b[1;32mIn[59], line 1\u001b[0m\n\u001b[1;32m----> 1\u001b[0m \u001b[38;5;28mprint\u001b[39m(\u001b[38;5;124m'\u001b[39m\u001b[38;5;124my columns are \u001b[39m\u001b[38;5;124m'\u001b[39m, DiabetesData\u001b[38;5;241m.\u001b[39mtarget_names)\n",
      "File \u001b[1;32m~\\anaconda3\\Lib\\site-packages\\sklearn\\utils\\_bunch.py:56\u001b[0m, in \u001b[0;36mBunch.__getattr__\u001b[1;34m(self, key)\u001b[0m\n\u001b[0;32m     54\u001b[0m     \u001b[38;5;28;01mreturn\u001b[39;00m \u001b[38;5;28mself\u001b[39m[key]\n\u001b[0;32m     55\u001b[0m \u001b[38;5;28;01mexcept\u001b[39;00m \u001b[38;5;167;01mKeyError\u001b[39;00m:\n\u001b[1;32m---> 56\u001b[0m     \u001b[38;5;28;01mraise\u001b[39;00m \u001b[38;5;167;01mAttributeError\u001b[39;00m(key)\n",
      "\u001b[1;31mAttributeError\u001b[0m: target_names"
     ]
    }
   ],
   "source": []
  },
  {
   "cell_type": "code",
   "execution_count": null,
   "id": "dd04264c",
   "metadata": {},
   "outputs": [],
   "source": []
  }
 ],
 "metadata": {
  "kernelspec": {
   "display_name": "Python 3 (ipykernel)",
   "language": "python",
   "name": "python3"
  },
  "language_info": {
   "codemirror_mode": {
    "name": "ipython",
    "version": 3
   },
   "file_extension": ".py",
   "mimetype": "text/x-python",
   "name": "python",
   "nbconvert_exporter": "python",
   "pygments_lexer": "ipython3",
   "version": "3.11.3"
  }
 },
 "nbformat": 4,
 "nbformat_minor": 5
}
